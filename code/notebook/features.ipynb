{
 "cells": [
  {
   "cell_type": "code",
   "execution_count": 9,
   "id": "ae386e06",
   "metadata": {},
   "outputs": [],
   "source": [
    "import pandas as pd\n",
    "import numpy as np\n",
    "import os, sys, gc, random\n",
    "import datetime\n",
    "from dateutil.relativedelta import relativedelta\n",
    "from datetime import datetime\n",
    "from glob import glob\n",
    "\n",
    "# Machine learning\n",
    "from sklearn.preprocessing import LabelEncoder\n",
    "from sklearn.impute import SimpleImputer # 누락값 대체 \n",
    "from sklearn.model_selection import StratifiedKFold\n",
    "from sklearn.metrics import roc_auc_score"
   ]
  },
  {
   "cell_type": "code",
   "execution_count": 10,
   "id": "1fcce5d0",
   "metadata": {},
   "outputs": [],
   "source": [
    "class CFG:\n",
    "    TOTAL_THRES = 300 # 구매액 임계값\n",
    "    SEED = 42 # 랜덤 시드\n",
    "    TARGET_YEAR_MONTH = '2011-12' # 예측할 연월 설정\n",
    "\n",
    "cfg=CFG()\n",
    "data_dir='/opt/ml/code/input/'\n",
    "submit=pd.read_csv(data_dir+'sample_submission.csv')\n",
    "data=pd.read_csv(data_dir+'train.csv',parse_dates=['order_date']) # parse_dates:datetime 형태로 변경되어야 하는 컬럼 지정"
   ]
  },
  {
   "cell_type": "code",
   "execution_count": 11,
   "id": "61470896",
   "metadata": {},
   "outputs": [],
   "source": [
    "############SET SEED##############\n",
    "# 시드 고정 함수\n",
    "def seed_everything(seed=0):\n",
    "    random.seed(seed)\n",
    "    os.environ['PYTHONHASHSEED'] = str(seed)\n",
    "    np.random.seed(seed)\n",
    "\n",
    "seed_everything(cfg.SEED)"
   ]
  },
  {
   "cell_type": "code",
   "execution_count": 12,
   "id": "420d6fcb",
   "metadata": {},
   "outputs": [],
   "source": [
    "############BEFORE FEATURE ENGINEERING##############\n",
    "def generate_label(data,tgt_ym,total_thres=cfg.TOTAL_THRES,print_log=False): # tgt_ym는 test때는 TARGET_YEAR_MONTH. 아닐때는 임의로 넣어 train\n",
    "    '''\n",
    "    입력인자로 받는 tgt_ym에 대해 고객 ID별로 총 구매액이\n",
    "    구매액 임계값을 넘는지 여부의 binary label을 생성하는 함수\n",
    "    '''\n",
    "    df=data.copy()\n",
    "    df['ym']=df['order_date'].dt.strftime('%Y-%m')\n",
    "    df.reset_index(drop=True, inplace=True)\n",
    "    \n",
    "    # 입력 연월 이전 고객 아이디 - 다음 월의 소비금액 예측 위험\n",
    "    customer_id=df[df['ym']<tgt_ym]['customer_id'].unique()\n",
    "    # 예측할 연월 데이터 선택\n",
    "    df=df[df['ym']==tgt_ym]\n",
    "    \n",
    "    # label dataframe\n",
    "    label=pd.DataFrame({'customer_id':customer_id})\n",
    "    label['ym']=tgt_ym\n",
    "    \n",
    "    # 특정 연월에 해당하는 고객 id의 구매액 합산\n",
    "    grped=df.groupby(['customer_id','ym'], as_index=False)['total'].sum()\n",
    "    \n",
    "    # merge grped result\n",
    "    label=label.merge(grped,on=['customer_id','ym'],how='left')\n",
    "    label.fillna(0.0,inplace=True)\n",
    "    label['label']=(label['total']>total_thres).astype(int)\n",
    "    \n",
    "    # 정리\n",
    "    label = label.sort_values('customer_id').reset_index(drop=True)\n",
    "    if print_log:\n",
    "        print(f'{tgt_ym} - final label shape: {label.shape}')\n",
    "    \n",
    "    return label\n",
    "    \n",
    "# generate_label(data,'2011-09',cfg.TOTAL_THRES)"
   ]
  },
  {
   "cell_type": "code",
   "execution_count": 13,
   "id": "bb315625",
   "metadata": {},
   "outputs": [],
   "source": [
    "############BEFORE FEATURE ENGINEERING##############\n",
    "# 범주형->수치형 변환, 결측치 처리 \n",
    "def feature_preprocessing(train, test, features, do_imputing=True):\n",
    "    x_tr = train.copy()\n",
    "    x_te = test.copy()\n",
    "    \n",
    "    # 범주형 피처 이름을 저장할 변수\n",
    "    cate_cols = []\n",
    "\n",
    "    # 레이블 인코딩\n",
    "    for f in features:\n",
    "        if x_tr[f].dtype.name == 'object': # 데이터 타입이 object(str)이면 레이블 인코딩\n",
    "            cate_cols.append(f)\n",
    "            le = LabelEncoder()\n",
    "            # train + test 데이터를 합쳐서 레이블 인코딩 함수에 fit\n",
    "            le.fit(list(x_tr[f].values) + list(x_te[f].values))\n",
    "            \n",
    "            # train 데이터 레이블 인코딩 변환 수행\n",
    "            x_tr[f] = le.transform(list(x_tr[f].values))\n",
    "            print(x_tr[f])\n",
    "            \n",
    "            # test 데이터 레이블 인코딩 변환 수행\n",
    "            x_te[f] = le.transform(list(x_te[f].values))\n",
    "\n",
    "    print('categorical feature:', cate_cols) # 범주형이 없었으면 [] 들어있는게 맞는 거겠지?\n",
    "\n",
    "    if do_imputing:\n",
    "        # 중위값으로 결측치 채우기\n",
    "        imputer = SimpleImputer(strategy='median')\n",
    "\n",
    "        x_tr[features] = imputer.fit_transform(x_tr[features])\n",
    "        x_te[features] = imputer.transform(x_te[features])\n",
    "    \n",
    "    return x_tr, x_te"
   ]
  },
  {
   "cell_type": "code",
   "execution_count": 14,
   "id": "a97bf743",
   "metadata": {},
   "outputs": [
    {
     "output_type": "stream",
     "name": "stdout",
     "text": [
      "categorical feature: []\n"
     ]
    }
   ],
   "source": [
    "############FEATURE ENGINEERING##############\n",
    "def feature_engineering1(data,tgt_ym):\n",
    "    df=data.copy()\n",
    "\n",
    "    # tgt_ym 이전 달 계산. tgt_ym이 실제 예측할 연월일 수도 있고, 임의일 수도 있음(train때는 임의 연월, 그 임의 연월의 전달로 설정됨)\n",
    "    d=datetime.strptime(tgt_ym,'%Y-%m') # strptime : 문자열->datetime\n",
    "    prev_ym=(d-relativedelta(months=1)).strftime('%Y-%m') # strftime : datetime->문자열\n",
    "\n",
    "    # train, test 데이터 선택\n",
    "    train=df[df['order_date']<prev_ym]\n",
    "    test=df[df['order_date']<tgt_ym]\n",
    "    \n",
    "    # train, test 레이블 데이터 생성 - total값은 필요없어서 선택 안함\n",
    "    train_label = generate_label(df, prev_ym)[['customer_id','ym','label']]\n",
    "    test_label = generate_label(df, tgt_ym)[['customer_id','ym','label']]\n",
    "    \n",
    "    # group by aggregation 함수 선언\n",
    "    agg_func = ['mean','max','min','sum','count','std','skew']\n",
    "    all_train_data = pd.DataFrame()\n",
    "    for i,tr_ym in enumerate(train_label['ym'].unique()): # 이거 왜 굳이 for문씀? 딱 한번만 돌아가는데 ...\n",
    "        train_agg=train[train['order_date']<tr_ym].groupby(['customer_id']).agg(agg_func)\n",
    "#         print(train_agg.columns.levels) # [['quantity', 'price', 'total'], ['mean', 'max', 'min', 'sum', 'count', 'std', 'skew']]\n",
    "        \n",
    "        # 멀티 레벨 컬럼을 사용하기 쉽게 1 레벨 컬럼명으로 변경\n",
    "        new_cols = []\n",
    "        for col in train_agg.columns.levels[0]:\n",
    "            for stat in train_agg.columns.levels[1]:\n",
    "                new_cols.append(f'{col}-{stat}')\n",
    "        train_agg.columns=new_cols\n",
    "        train_agg.reset_index(inplace = True)\n",
    "        \n",
    "        train_agg['ym']=tr_ym\n",
    "        \n",
    "        all_train_data = all_train_data.append(train_agg)\n",
    "        \n",
    "    all_train_data = train_label.merge(all_train_data, on=['customer_id', 'ym'], how='left') # feature 반영 데이터프레임\n",
    "    features = all_train_data.drop(columns=['customer_id', 'label', 'ym']).columns # feature (agg정보)\n",
    "    \n",
    "    # group by aggretation 함수로 test 데이터 피처 생성\n",
    "    test_agg = test.groupby(['customer_id']).agg(agg_func)\n",
    "    test_agg.columns = new_cols\n",
    "    \n",
    "    test_data = test_label.merge(test_agg, on=['customer_id'], how='left')\n",
    "\n",
    "    # train, test 데이터 전처리\n",
    "    x_tr, x_te = feature_preprocessing(all_train_data, test_data, features)\n",
    "    \n",
    "#     print('x_tr.shape', x_tr.shape, ', x_te.shape', x_te.shape)\n",
    "    \n",
    "    return x_tr, x_te, all_train_data['label'], features\n",
    "\n",
    "x_tr,x_te,all_data,features=feature_engineering1(data,'2011-09')"
   ]
  },
  {
   "cell_type": "code",
   "execution_count": 15,
   "id": "814b960b",
   "metadata": {},
   "outputs": [
    {
     "output_type": "execute_result",
     "data": {
      "text/plain": [
       "Index(['quantity-mean', 'quantity-max', 'quantity-min', 'quantity-sum',\n",
       "       'quantity-count', 'quantity-std', 'quantity-skew', 'price-mean',\n",
       "       'price-max', 'price-min', 'price-sum', 'price-count', 'price-std',\n",
       "       'price-skew', 'total-mean', 'total-max', 'total-min', 'total-sum',\n",
       "       'total-count', 'total-std', 'total-skew'],\n",
       "      dtype='object')"
      ]
     },
     "metadata": {},
     "execution_count": 15
    }
   ],
   "source": [
    "features"
   ]
  },
  {
   "cell_type": "code",
   "execution_count": 16,
   "id": "18252f1c",
   "metadata": {},
   "outputs": [
    {
     "output_type": "execute_result",
     "data": {
      "text/plain": [
       "      customer_id       ym  label  quantity-mean  quantity-max  quantity-min  \\\n",
       "0           12346  2011-08      0       1.127660       74215.0      -74215.0   \n",
       "1           12347  2011-08      1      12.830986         240.0           2.0   \n",
       "2           12348  2011-08      0      52.020833         144.0           1.0   \n",
       "3           12349  2011-08      0       9.233645          48.0          -1.0   \n",
       "4           12350  2011-08      0      11.588235          24.0           1.0   \n",
       "...           ...      ...    ...            ...           ...           ...   \n",
       "5203        18283  2011-08      0       1.592593          13.0           1.0   \n",
       "5204        18284  2011-08      0      17.000000          50.0          -1.0   \n",
       "5205        18285  2011-08      0      12.083333          80.0           1.0   \n",
       "5206        18286  2011-08      0       8.457143          36.0          -8.0   \n",
       "5207        18287  2011-08      0      16.634783          60.0          -2.0   \n",
       "\n",
       "      quantity-sum  quantity-count  quantity-std  quantity-skew  ...  \\\n",
       "0             53.0            47.0  15474.897433      -0.000228  ...   \n",
       "1           1822.0           142.0     20.640101       9.622845  ...   \n",
       "2           2497.0            48.0     48.268526       0.931981  ...   \n",
       "3            988.0           107.0      8.408867       1.558634  ...   \n",
       "4            197.0            17.0      4.345383       0.472554  ...   \n",
       "...            ...             ...           ...            ...  ...   \n",
       "5203         946.0           594.0      1.568776       5.021481  ...   \n",
       "5204         493.0            29.0     14.992855       1.006840  ...   \n",
       "5205         145.0            12.0     21.760926       3.258881  ...   \n",
       "5206         592.0            70.0      7.224527       1.525244  ...   \n",
       "5207        1913.0           115.0     14.479465       1.456698  ...   \n",
       "\n",
       "      price-count  price-std  price-skew  total-mean    total-max  \\\n",
       "0            47.0  40.530554    4.547689   -1.816404  127352.9400   \n",
       "1           142.0   3.547177    2.606898   32.738324     411.8400   \n",
       "2            48.0  15.883893    3.721855   58.760625     396.0000   \n",
       "3           107.0  50.462126    7.102276   40.818070     412.5000   \n",
       "4            17.0  15.402339    4.098028   32.456471      66.0000   \n",
       "...           ...        ...         ...         ...          ...   \n",
       "5203        594.0   2.390382    3.172500    4.364722      36.1350   \n",
       "5204         29.0  16.390112    4.144780   24.845586      82.5000   \n",
       "5205         12.0  22.746537    2.931939   58.712500     336.6000   \n",
       "5206         70.0  11.243420    4.944969   28.012993     123.5025   \n",
       "5207        115.0   7.929329    8.675984   44.562770     201.9600   \n",
       "\n",
       "        total-min  total-sum  total-count     total-std  total-skew  \n",
       "0    -127352.9400   -85.3710         47.0  26554.972603    0.000214  \n",
       "1          8.3160  4648.8420        142.0     35.520500    8.907242  \n",
       "2          1.6500  2820.5100         48.0     67.342696    3.123453  \n",
       "3        -24.6675  4367.5335        107.0     54.673882    4.889357  \n",
       "4         14.0250   551.7600         17.0     12.004638    1.178640  \n",
       "...           ...        ...          ...           ...         ...  \n",
       "5203       0.3465  2592.6450        594.0      3.767711    3.439766  \n",
       "5204     -41.2500   720.5220         29.0     20.064162   -0.050964  \n",
       "5205      12.8700   704.5500         12.0     89.901391    3.158211  \n",
       "5206     -89.1000  1960.9095         70.0     26.685538   -0.669937  \n",
       "5207      -8.4150  5124.7185        115.0     40.090413    2.317727  \n",
       "\n",
       "[5208 rows x 24 columns]"
      ],
      "text/html": "<div>\n<style scoped>\n    .dataframe tbody tr th:only-of-type {\n        vertical-align: middle;\n    }\n\n    .dataframe tbody tr th {\n        vertical-align: top;\n    }\n\n    .dataframe thead th {\n        text-align: right;\n    }\n</style>\n<table border=\"1\" class=\"dataframe\">\n  <thead>\n    <tr style=\"text-align: right;\">\n      <th></th>\n      <th>customer_id</th>\n      <th>ym</th>\n      <th>label</th>\n      <th>quantity-mean</th>\n      <th>quantity-max</th>\n      <th>quantity-min</th>\n      <th>quantity-sum</th>\n      <th>quantity-count</th>\n      <th>quantity-std</th>\n      <th>quantity-skew</th>\n      <th>...</th>\n      <th>price-count</th>\n      <th>price-std</th>\n      <th>price-skew</th>\n      <th>total-mean</th>\n      <th>total-max</th>\n      <th>total-min</th>\n      <th>total-sum</th>\n      <th>total-count</th>\n      <th>total-std</th>\n      <th>total-skew</th>\n    </tr>\n  </thead>\n  <tbody>\n    <tr>\n      <th>0</th>\n      <td>12346</td>\n      <td>2011-08</td>\n      <td>0</td>\n      <td>1.127660</td>\n      <td>74215.0</td>\n      <td>-74215.0</td>\n      <td>53.0</td>\n      <td>47.0</td>\n      <td>15474.897433</td>\n      <td>-0.000228</td>\n      <td>...</td>\n      <td>47.0</td>\n      <td>40.530554</td>\n      <td>4.547689</td>\n      <td>-1.816404</td>\n      <td>127352.9400</td>\n      <td>-127352.9400</td>\n      <td>-85.3710</td>\n      <td>47.0</td>\n      <td>26554.972603</td>\n      <td>0.000214</td>\n    </tr>\n    <tr>\n      <th>1</th>\n      <td>12347</td>\n      <td>2011-08</td>\n      <td>1</td>\n      <td>12.830986</td>\n      <td>240.0</td>\n      <td>2.0</td>\n      <td>1822.0</td>\n      <td>142.0</td>\n      <td>20.640101</td>\n      <td>9.622845</td>\n      <td>...</td>\n      <td>142.0</td>\n      <td>3.547177</td>\n      <td>2.606898</td>\n      <td>32.738324</td>\n      <td>411.8400</td>\n      <td>8.3160</td>\n      <td>4648.8420</td>\n      <td>142.0</td>\n      <td>35.520500</td>\n      <td>8.907242</td>\n    </tr>\n    <tr>\n      <th>2</th>\n      <td>12348</td>\n      <td>2011-08</td>\n      <td>0</td>\n      <td>52.020833</td>\n      <td>144.0</td>\n      <td>1.0</td>\n      <td>2497.0</td>\n      <td>48.0</td>\n      <td>48.268526</td>\n      <td>0.931981</td>\n      <td>...</td>\n      <td>48.0</td>\n      <td>15.883893</td>\n      <td>3.721855</td>\n      <td>58.760625</td>\n      <td>396.0000</td>\n      <td>1.6500</td>\n      <td>2820.5100</td>\n      <td>48.0</td>\n      <td>67.342696</td>\n      <td>3.123453</td>\n    </tr>\n    <tr>\n      <th>3</th>\n      <td>12349</td>\n      <td>2011-08</td>\n      <td>0</td>\n      <td>9.233645</td>\n      <td>48.0</td>\n      <td>-1.0</td>\n      <td>988.0</td>\n      <td>107.0</td>\n      <td>8.408867</td>\n      <td>1.558634</td>\n      <td>...</td>\n      <td>107.0</td>\n      <td>50.462126</td>\n      <td>7.102276</td>\n      <td>40.818070</td>\n      <td>412.5000</td>\n      <td>-24.6675</td>\n      <td>4367.5335</td>\n      <td>107.0</td>\n      <td>54.673882</td>\n      <td>4.889357</td>\n    </tr>\n    <tr>\n      <th>4</th>\n      <td>12350</td>\n      <td>2011-08</td>\n      <td>0</td>\n      <td>11.588235</td>\n      <td>24.0</td>\n      <td>1.0</td>\n      <td>197.0</td>\n      <td>17.0</td>\n      <td>4.345383</td>\n      <td>0.472554</td>\n      <td>...</td>\n      <td>17.0</td>\n      <td>15.402339</td>\n      <td>4.098028</td>\n      <td>32.456471</td>\n      <td>66.0000</td>\n      <td>14.0250</td>\n      <td>551.7600</td>\n      <td>17.0</td>\n      <td>12.004638</td>\n      <td>1.178640</td>\n    </tr>\n    <tr>\n      <th>...</th>\n      <td>...</td>\n      <td>...</td>\n      <td>...</td>\n      <td>...</td>\n      <td>...</td>\n      <td>...</td>\n      <td>...</td>\n      <td>...</td>\n      <td>...</td>\n      <td>...</td>\n      <td>...</td>\n      <td>...</td>\n      <td>...</td>\n      <td>...</td>\n      <td>...</td>\n      <td>...</td>\n      <td>...</td>\n      <td>...</td>\n      <td>...</td>\n      <td>...</td>\n      <td>...</td>\n    </tr>\n    <tr>\n      <th>5203</th>\n      <td>18283</td>\n      <td>2011-08</td>\n      <td>0</td>\n      <td>1.592593</td>\n      <td>13.0</td>\n      <td>1.0</td>\n      <td>946.0</td>\n      <td>594.0</td>\n      <td>1.568776</td>\n      <td>5.021481</td>\n      <td>...</td>\n      <td>594.0</td>\n      <td>2.390382</td>\n      <td>3.172500</td>\n      <td>4.364722</td>\n      <td>36.1350</td>\n      <td>0.3465</td>\n      <td>2592.6450</td>\n      <td>594.0</td>\n      <td>3.767711</td>\n      <td>3.439766</td>\n    </tr>\n    <tr>\n      <th>5204</th>\n      <td>18284</td>\n      <td>2011-08</td>\n      <td>0</td>\n      <td>17.000000</td>\n      <td>50.0</td>\n      <td>-1.0</td>\n      <td>493.0</td>\n      <td>29.0</td>\n      <td>14.992855</td>\n      <td>1.006840</td>\n      <td>...</td>\n      <td>29.0</td>\n      <td>16.390112</td>\n      <td>4.144780</td>\n      <td>24.845586</td>\n      <td>82.5000</td>\n      <td>-41.2500</td>\n      <td>720.5220</td>\n      <td>29.0</td>\n      <td>20.064162</td>\n      <td>-0.050964</td>\n    </tr>\n    <tr>\n      <th>5205</th>\n      <td>18285</td>\n      <td>2011-08</td>\n      <td>0</td>\n      <td>12.083333</td>\n      <td>80.0</td>\n      <td>1.0</td>\n      <td>145.0</td>\n      <td>12.0</td>\n      <td>21.760926</td>\n      <td>3.258881</td>\n      <td>...</td>\n      <td>12.0</td>\n      <td>22.746537</td>\n      <td>2.931939</td>\n      <td>58.712500</td>\n      <td>336.6000</td>\n      <td>12.8700</td>\n      <td>704.5500</td>\n      <td>12.0</td>\n      <td>89.901391</td>\n      <td>3.158211</td>\n    </tr>\n    <tr>\n      <th>5206</th>\n      <td>18286</td>\n      <td>2011-08</td>\n      <td>0</td>\n      <td>8.457143</td>\n      <td>36.0</td>\n      <td>-8.0</td>\n      <td>592.0</td>\n      <td>70.0</td>\n      <td>7.224527</td>\n      <td>1.525244</td>\n      <td>...</td>\n      <td>70.0</td>\n      <td>11.243420</td>\n      <td>4.944969</td>\n      <td>28.012993</td>\n      <td>123.5025</td>\n      <td>-89.1000</td>\n      <td>1960.9095</td>\n      <td>70.0</td>\n      <td>26.685538</td>\n      <td>-0.669937</td>\n    </tr>\n    <tr>\n      <th>5207</th>\n      <td>18287</td>\n      <td>2011-08</td>\n      <td>0</td>\n      <td>16.634783</td>\n      <td>60.0</td>\n      <td>-2.0</td>\n      <td>1913.0</td>\n      <td>115.0</td>\n      <td>14.479465</td>\n      <td>1.456698</td>\n      <td>...</td>\n      <td>115.0</td>\n      <td>7.929329</td>\n      <td>8.675984</td>\n      <td>44.562770</td>\n      <td>201.9600</td>\n      <td>-8.4150</td>\n      <td>5124.7185</td>\n      <td>115.0</td>\n      <td>40.090413</td>\n      <td>2.317727</td>\n    </tr>\n  </tbody>\n</table>\n<p>5208 rows × 24 columns</p>\n</div>"
     },
     "metadata": {},
     "execution_count": 16
    }
   ],
   "source": [
    "x_tr"
   ]
  },
  {
   "cell_type": "code",
   "execution_count": 19,
   "id": "4d80e24f",
   "metadata": {},
   "outputs": [
    {
     "output_type": "execute_result",
     "data": {
      "text/plain": [
       "  order_id product_id                          description  quantity  \\\n",
       "0   489434      85048  15CM CHRISTMAS GLASS BALL 20 LIGHTS        12   \n",
       "1   489434     79323P                   PINK CHERRY LIGHTS        12   \n",
       "2   489434     79323W                  WHITE CHERRY LIGHTS        12   \n",
       "3   489434      22041         RECORD FRAME 7\" SINGLE SIZE         48   \n",
       "4   489434      21232       STRAWBERRY CERAMIC TRINKET BOX        24   \n",
       "\n",
       "           order_date    price  customer_id         country   total  \n",
       "0 2009-12-01 07:45:00  11.4675        13085  United Kingdom  137.61  \n",
       "1 2009-12-01 07:45:00  11.1375        13085  United Kingdom  133.65  \n",
       "2 2009-12-01 07:45:00  11.1375        13085  United Kingdom  133.65  \n",
       "3 2009-12-01 07:45:00   3.4650        13085  United Kingdom  166.32  \n",
       "4 2009-12-01 07:45:00   2.0625        13085  United Kingdom   49.50  "
      ],
      "text/html": "<div>\n<style scoped>\n    .dataframe tbody tr th:only-of-type {\n        vertical-align: middle;\n    }\n\n    .dataframe tbody tr th {\n        vertical-align: top;\n    }\n\n    .dataframe thead th {\n        text-align: right;\n    }\n</style>\n<table border=\"1\" class=\"dataframe\">\n  <thead>\n    <tr style=\"text-align: right;\">\n      <th></th>\n      <th>order_id</th>\n      <th>product_id</th>\n      <th>description</th>\n      <th>quantity</th>\n      <th>order_date</th>\n      <th>price</th>\n      <th>customer_id</th>\n      <th>country</th>\n      <th>total</th>\n    </tr>\n  </thead>\n  <tbody>\n    <tr>\n      <th>0</th>\n      <td>489434</td>\n      <td>85048</td>\n      <td>15CM CHRISTMAS GLASS BALL 20 LIGHTS</td>\n      <td>12</td>\n      <td>2009-12-01 07:45:00</td>\n      <td>11.4675</td>\n      <td>13085</td>\n      <td>United Kingdom</td>\n      <td>137.61</td>\n    </tr>\n    <tr>\n      <th>1</th>\n      <td>489434</td>\n      <td>79323P</td>\n      <td>PINK CHERRY LIGHTS</td>\n      <td>12</td>\n      <td>2009-12-01 07:45:00</td>\n      <td>11.1375</td>\n      <td>13085</td>\n      <td>United Kingdom</td>\n      <td>133.65</td>\n    </tr>\n    <tr>\n      <th>2</th>\n      <td>489434</td>\n      <td>79323W</td>\n      <td>WHITE CHERRY LIGHTS</td>\n      <td>12</td>\n      <td>2009-12-01 07:45:00</td>\n      <td>11.1375</td>\n      <td>13085</td>\n      <td>United Kingdom</td>\n      <td>133.65</td>\n    </tr>\n    <tr>\n      <th>3</th>\n      <td>489434</td>\n      <td>22041</td>\n      <td>RECORD FRAME 7\" SINGLE SIZE</td>\n      <td>48</td>\n      <td>2009-12-01 07:45:00</td>\n      <td>3.4650</td>\n      <td>13085</td>\n      <td>United Kingdom</td>\n      <td>166.32</td>\n    </tr>\n    <tr>\n      <th>4</th>\n      <td>489434</td>\n      <td>21232</td>\n      <td>STRAWBERRY CERAMIC TRINKET BOX</td>\n      <td>24</td>\n      <td>2009-12-01 07:45:00</td>\n      <td>2.0625</td>\n      <td>13085</td>\n      <td>United Kingdom</td>\n      <td>49.50</td>\n    </tr>\n  </tbody>\n</table>\n</div>"
     },
     "metadata": {},
     "execution_count": 19
    }
   ],
   "source": [
    "data.head()"
   ]
  },
  {
   "cell_type": "code",
   "execution_count": 20,
   "metadata": {},
   "outputs": [],
   "source": [
    "def get_high_correlation_cols(df, corrThresh=0.7):\n",
    "    numeric_cols = df._get_numeric_data().columns\n",
    "    corr_matrix = df.loc[:, numeric_cols].corr().abs()\n",
    "    upper = corr_matrix.where(np.triu(np.ones(corr_matrix.shape), k=1).astype(np.bool))\n",
    "    to_drop = [column for column in upper.columns if any(upper[column] > corrThresh)]\n",
    "    return to_drop\n"
   ]
  },
  {
   "cell_type": "code",
   "execution_count": 21,
   "metadata": {},
   "outputs": [
    {
     "output_type": "stream",
     "name": "stdout",
     "text": [
      "             quantity     price  customer_id     total\nquantity     1.000000  0.002557     0.007116  0.729222\nprice        0.002557  1.000000     0.003764  0.287810\ncustomer_id  0.007116  0.003764     1.000000  0.005763\ntotal        0.729222  0.287810     0.005763  1.000000\n"
     ]
    },
    {
     "output_type": "execute_result",
     "data": {
      "text/plain": [
       "['total']"
      ]
     },
     "metadata": {},
     "execution_count": 21
    }
   ],
   "source": [
    "get_high_correlation_cols(data)"
   ]
  },
  {
   "cell_type": "code",
   "execution_count": null,
   "metadata": {},
   "outputs": [],
   "source": []
  }
 ],
 "metadata": {
  "kernelspec": {
   "name": "python377jvsc74a57bd098b0a9b7b4eaaa670588a142fd0a9b87eaafe866f1db4228be72b4211d12040f",
   "display_name": "Python 3.7.7 64-bit ('base': conda)"
  },
  "language_info": {
   "codemirror_mode": {
    "name": "ipython",
    "version": 3
   },
   "file_extension": ".py",
   "mimetype": "text/x-python",
   "name": "python",
   "nbconvert_exporter": "python",
   "pygments_lexer": "ipython3",
   "version": "3.7.7"
  }
 },
 "nbformat": 4,
 "nbformat_minor": 5
}