{
 "cells": [
  {
   "cell_type": "code",
   "execution_count": 1,
   "id": "53f29a80",
   "metadata": {},
   "outputs": [
    {
     "data": {
      "text/html": [
       "<style type='text/css'>\n",
       ".datatable table.frame { margin-bottom: 0; }\n",
       ".datatable table.frame thead { border-bottom: none; }\n",
       ".datatable table.frame tr.coltypes td {  color: #FFFFFF;  line-height: 6px;  padding: 0 0.5em;}\n",
       ".datatable .bool    { background: #DDDD99; }\n",
       ".datatable .object  { background: #565656; }\n",
       ".datatable .int     { background: #5D9E5D; }\n",
       ".datatable .float   { background: #4040CC; }\n",
       ".datatable .str     { background: #CC4040; }\n",
       ".datatable .row_index {  background: var(--jp-border-color3);  border-right: 1px solid var(--jp-border-color0);  color: var(--jp-ui-font-color3);  font-size: 9px;}\n",
       ".datatable .frame tr.coltypes .row_index {  background: var(--jp-border-color0);}\n",
       ".datatable th:nth-child(2) { padding-left: 12px; }\n",
       ".datatable .hellipsis {  color: var(--jp-cell-editor-border-color);}\n",
       ".datatable .vellipsis {  background: var(--jp-layout-color0);  color: var(--jp-cell-editor-border-color);}\n",
       ".datatable .na {  color: var(--jp-cell-editor-border-color);  font-size: 80%;}\n",
       ".datatable .footer { font-size: 9px; }\n",
       ".datatable .frame_dimensions {  background: var(--jp-border-color3);  border-top: 1px solid var(--jp-border-color0);  color: var(--jp-ui-font-color3);  display: inline-block;  opacity: 0.6;  padding: 1px 10px 1px 5px;}\n",
       "</style>\n"
      ],
      "text/plain": [
       "<IPython.core.display.HTML object>"
      ]
     },
     "metadata": {},
     "output_type": "display_data"
    }
   ],
   "source": [
    "import pandas as pd\n",
    "import numpy as np\n",
    "import datetime as dt\n",
    "import math\n",
    "from glob import glob\n",
    "import os\n",
    "import random\n",
    "import torch\n",
    "import re\n",
    "import datatable as dt\n",
    "from scipy.interpolate import make_interp_spline, BSpline\n",
    "import seaborn as sns\n",
    "\n",
    "import matplotlib.pyplot as plt\n",
    "import warnings\n",
    "warnings.filterwarnings(\"ignore\")"
   ]
  },
  {
   "cell_type": "code",
   "execution_count": 2,
   "id": "16496921",
   "metadata": {},
   "outputs": [
    {
     "name": "stdout",
     "output_type": "stream",
     "text": [
      "pd version : 1.1.5\n",
      "np version : 1.19.5\n"
     ]
    }
   ],
   "source": [
    "print(\"pd version : \" + pd.__version__)\n",
    "print(\"np version : \" + np.__version__)"
   ]
  },
  {
   "cell_type": "code",
   "execution_count": 3,
   "id": "14258533",
   "metadata": {},
   "outputs": [
    {
     "name": "stdout",
     "output_type": "stream",
     "text": [
      "['/opt/ml/code/input/sample_submission.csv', '/opt/ml/code/input/train.csv']\n"
     ]
    }
   ],
   "source": [
    "class CFG:\n",
    "    seed=42\n",
    "    \n",
    "root='/opt/ml/code/input/'\n",
    "data_path=glob(root+'*.csv')\n",
    "print(data_path)"
   ]
  },
  {
   "cell_type": "code",
   "execution_count": 4,
   "id": "49917362",
   "metadata": {},
   "outputs": [],
   "source": [
    "############SET SEED##############\n",
    "def seed_everything(seed):\n",
    "    torch.manual_seed(seed)\n",
    "    torch.cuda.manual_seed(seed)\n",
    "    torch.cuda.manual_seed_all(seed)  # if use multi-GPU\n",
    "    torch.backends.cudnn.deterministic = True\n",
    "    torch.backends.cudnn.benchmark = False\n",
    "    np.random.seed(seed)\n",
    "    random.seed(seed)\n",
    "    \n",
    "seed_everything(CFG.seed)"
   ]
  },
  {
   "cell_type": "code",
   "execution_count": 5,
   "id": "2d7cc5fd",
   "metadata": {},
   "outputs": [],
   "source": [
    "############LOAD DATA##############\n",
    "sample_submission = pd.read_csv(data_path[0])\n",
    "train = pd.read_csv(data_path[1])"
   ]
  },
  {
   "cell_type": "code",
   "execution_count": 6,
   "id": "6aeba8fb",
   "metadata": {},
   "outputs": [
    {
     "data": {
      "text/html": [
       "<div>\n",
       "<style scoped>\n",
       "    .dataframe tbody tr th:only-of-type {\n",
       "        vertical-align: middle;\n",
       "    }\n",
       "\n",
       "    .dataframe tbody tr th {\n",
       "        vertical-align: top;\n",
       "    }\n",
       "\n",
       "    .dataframe thead th {\n",
       "        text-align: right;\n",
       "    }\n",
       "</style>\n",
       "<table border=\"1\" class=\"dataframe\">\n",
       "  <thead>\n",
       "    <tr style=\"text-align: right;\">\n",
       "      <th></th>\n",
       "      <th>order_id</th>\n",
       "      <th>product_id</th>\n",
       "      <th>description</th>\n",
       "      <th>quantity</th>\n",
       "      <th>order_date</th>\n",
       "      <th>price</th>\n",
       "      <th>customer_id</th>\n",
       "      <th>country</th>\n",
       "      <th>total</th>\n",
       "    </tr>\n",
       "  </thead>\n",
       "  <tbody>\n",
       "    <tr>\n",
       "      <th>0</th>\n",
       "      <td>489434</td>\n",
       "      <td>85048</td>\n",
       "      <td>15CM CHRISTMAS GLASS BALL 20 LIGHTS</td>\n",
       "      <td>12</td>\n",
       "      <td>2009-12-01 07:45:00</td>\n",
       "      <td>11.4675</td>\n",
       "      <td>13085</td>\n",
       "      <td>United Kingdom</td>\n",
       "      <td>137.61</td>\n",
       "    </tr>\n",
       "    <tr>\n",
       "      <th>1</th>\n",
       "      <td>489434</td>\n",
       "      <td>79323P</td>\n",
       "      <td>PINK CHERRY LIGHTS</td>\n",
       "      <td>12</td>\n",
       "      <td>2009-12-01 07:45:00</td>\n",
       "      <td>11.1375</td>\n",
       "      <td>13085</td>\n",
       "      <td>United Kingdom</td>\n",
       "      <td>133.65</td>\n",
       "    </tr>\n",
       "    <tr>\n",
       "      <th>2</th>\n",
       "      <td>489434</td>\n",
       "      <td>79323W</td>\n",
       "      <td>WHITE CHERRY LIGHTS</td>\n",
       "      <td>12</td>\n",
       "      <td>2009-12-01 07:45:00</td>\n",
       "      <td>11.1375</td>\n",
       "      <td>13085</td>\n",
       "      <td>United Kingdom</td>\n",
       "      <td>133.65</td>\n",
       "    </tr>\n",
       "    <tr>\n",
       "      <th>3</th>\n",
       "      <td>489434</td>\n",
       "      <td>22041</td>\n",
       "      <td>RECORD FRAME 7\" SINGLE SIZE</td>\n",
       "      <td>48</td>\n",
       "      <td>2009-12-01 07:45:00</td>\n",
       "      <td>3.4650</td>\n",
       "      <td>13085</td>\n",
       "      <td>United Kingdom</td>\n",
       "      <td>166.32</td>\n",
       "    </tr>\n",
       "    <tr>\n",
       "      <th>4</th>\n",
       "      <td>489434</td>\n",
       "      <td>21232</td>\n",
       "      <td>STRAWBERRY CERAMIC TRINKET BOX</td>\n",
       "      <td>24</td>\n",
       "      <td>2009-12-01 07:45:00</td>\n",
       "      <td>2.0625</td>\n",
       "      <td>13085</td>\n",
       "      <td>United Kingdom</td>\n",
       "      <td>49.50</td>\n",
       "    </tr>\n",
       "  </tbody>\n",
       "</table>\n",
       "</div>"
      ],
      "text/plain": [
       "  order_id product_id                          description  quantity  \\\n",
       "0   489434      85048  15CM CHRISTMAS GLASS BALL 20 LIGHTS        12   \n",
       "1   489434     79323P                   PINK CHERRY LIGHTS        12   \n",
       "2   489434     79323W                  WHITE CHERRY LIGHTS        12   \n",
       "3   489434      22041         RECORD FRAME 7\" SINGLE SIZE         48   \n",
       "4   489434      21232       STRAWBERRY CERAMIC TRINKET BOX        24   \n",
       "\n",
       "            order_date    price  customer_id         country   total  \n",
       "0  2009-12-01 07:45:00  11.4675        13085  United Kingdom  137.61  \n",
       "1  2009-12-01 07:45:00  11.1375        13085  United Kingdom  133.65  \n",
       "2  2009-12-01 07:45:00  11.1375        13085  United Kingdom  133.65  \n",
       "3  2009-12-01 07:45:00   3.4650        13085  United Kingdom  166.32  \n",
       "4  2009-12-01 07:45:00   2.0625        13085  United Kingdom   49.50  "
      ]
     },
     "execution_count": 6,
     "metadata": {},
     "output_type": "execute_result"
    }
   ],
   "source": [
    "############DATA SUMMARY##############\n",
    "train.head()"
   ]
  },
  {
   "cell_type": "code",
   "execution_count": 7,
   "id": "4b8898d2",
   "metadata": {},
   "outputs": [
    {
     "name": "stdout",
     "output_type": "stream",
     "text": [
      "<class 'pandas.core.frame.DataFrame'>\n",
      "RangeIndex: 780502 entries, 0 to 780501\n",
      "Data columns (total 9 columns):\n",
      " #   Column       Non-Null Count   Dtype  \n",
      "---  ------       --------------   -----  \n",
      " 0   order_id     780502 non-null  object \n",
      " 1   product_id   780502 non-null  object \n",
      " 2   description  780502 non-null  object \n",
      " 3   quantity     780502 non-null  int64  \n",
      " 4   order_date   780502 non-null  object \n",
      " 5   price        780502 non-null  float64\n",
      " 6   customer_id  780502 non-null  int64  \n",
      " 7   country      780502 non-null  object \n",
      " 8   total        780502 non-null  float64\n",
      "dtypes: float64(2), int64(2), object(5)\n",
      "memory usage: 53.6+ MB\n"
     ]
    }
   ],
   "source": [
    "train.info()"
   ]
  },
  {
   "cell_type": "code",
   "execution_count": 8,
   "id": "8806f167",
   "metadata": {},
   "outputs": [
    {
     "data": {
      "text/plain": [
       "5914"
      ]
     },
     "execution_count": 8,
     "metadata": {},
     "output_type": "execute_result"
    }
   ],
   "source": [
    "len(train.customer_id.unique())"
   ]
  },
  {
   "cell_type": "code",
   "execution_count": 9,
   "id": "072d95ca",
   "metadata": {},
   "outputs": [
    {
     "name": "stdout",
     "output_type": "stream",
     "text": [
      "2009-12-01 07:45:00\n",
      "2011-11-30 17:42:00\n"
     ]
    }
   ],
   "source": [
    "print(train.order_date.min())\n",
    "print(train.order_date.max())"
   ]
  },
  {
   "cell_type": "code",
   "execution_count": 10,
   "id": "efc85861",
   "metadata": {},
   "outputs": [
    {
     "data": {
      "text/plain": [
       "order_id       0\n",
       "product_id     0\n",
       "description    0\n",
       "quantity       0\n",
       "order_date     0\n",
       "price          0\n",
       "customer_id    0\n",
       "country        0\n",
       "total          0\n",
       "dtype: int64"
      ]
     },
     "execution_count": 10,
     "metadata": {},
     "output_type": "execute_result"
    }
   ],
   "source": [
    "train.isnull().sum()"
   ]
  },
  {
   "cell_type": "code",
   "execution_count": 11,
   "id": "8121ded4",
   "metadata": {},
   "outputs": [
    {
     "data": {
      "text/html": [
       "<div>\n",
       "<style scoped>\n",
       "    .dataframe tbody tr th:only-of-type {\n",
       "        vertical-align: middle;\n",
       "    }\n",
       "\n",
       "    .dataframe tbody tr th {\n",
       "        vertical-align: top;\n",
       "    }\n",
       "\n",
       "    .dataframe thead th {\n",
       "        text-align: right;\n",
       "    }\n",
       "</style>\n",
       "<table border=\"1\" class=\"dataframe\">\n",
       "  <thead>\n",
       "    <tr style=\"text-align: right;\">\n",
       "      <th></th>\n",
       "      <th>order_id</th>\n",
       "      <th>product_id</th>\n",
       "      <th>description</th>\n",
       "      <th>quantity</th>\n",
       "      <th>order_date</th>\n",
       "      <th>price</th>\n",
       "      <th>customer_id</th>\n",
       "      <th>country</th>\n",
       "      <th>total</th>\n",
       "    </tr>\n",
       "  </thead>\n",
       "  <tbody>\n",
       "    <tr>\n",
       "      <th>21447</th>\n",
       "      <td>491725</td>\n",
       "      <td>TEST001</td>\n",
       "      <td>This is a test product.</td>\n",
       "      <td>10</td>\n",
       "      <td>2009-12-14 08:34:00</td>\n",
       "      <td>7.4250</td>\n",
       "      <td>12346</td>\n",
       "      <td>United Kingdom</td>\n",
       "      <td>74.2500</td>\n",
       "    </tr>\n",
       "    <tr>\n",
       "      <th>21702</th>\n",
       "      <td>491742</td>\n",
       "      <td>TEST001</td>\n",
       "      <td>This is a test product.</td>\n",
       "      <td>5</td>\n",
       "      <td>2009-12-14 11:00:00</td>\n",
       "      <td>7.4250</td>\n",
       "      <td>12346</td>\n",
       "      <td>United Kingdom</td>\n",
       "      <td>37.1250</td>\n",
       "    </tr>\n",
       "    <tr>\n",
       "      <th>21705</th>\n",
       "      <td>491744</td>\n",
       "      <td>TEST001</td>\n",
       "      <td>This is a test product.</td>\n",
       "      <td>5</td>\n",
       "      <td>2009-12-14 11:02:00</td>\n",
       "      <td>7.4250</td>\n",
       "      <td>12346</td>\n",
       "      <td>United Kingdom</td>\n",
       "      <td>37.1250</td>\n",
       "    </tr>\n",
       "    <tr>\n",
       "      <th>28492</th>\n",
       "      <td>492718</td>\n",
       "      <td>TEST001</td>\n",
       "      <td>This is a test product.</td>\n",
       "      <td>5</td>\n",
       "      <td>2009-12-18 10:47:00</td>\n",
       "      <td>7.4250</td>\n",
       "      <td>12346</td>\n",
       "      <td>United Kingdom</td>\n",
       "      <td>37.1250</td>\n",
       "    </tr>\n",
       "    <tr>\n",
       "      <th>28504</th>\n",
       "      <td>492722</td>\n",
       "      <td>TEST002</td>\n",
       "      <td>This is a test product.</td>\n",
       "      <td>1</td>\n",
       "      <td>2009-12-18 10:55:00</td>\n",
       "      <td>1.6500</td>\n",
       "      <td>12346</td>\n",
       "      <td>United Kingdom</td>\n",
       "      <td>1.6500</td>\n",
       "    </tr>\n",
       "    <tr>\n",
       "      <th>31276</th>\n",
       "      <td>493410</td>\n",
       "      <td>TEST001</td>\n",
       "      <td>This is a test product.</td>\n",
       "      <td>5</td>\n",
       "      <td>2010-01-04 09:24:00</td>\n",
       "      <td>7.4250</td>\n",
       "      <td>12346</td>\n",
       "      <td>United Kingdom</td>\n",
       "      <td>37.1250</td>\n",
       "    </tr>\n",
       "    <tr>\n",
       "      <th>31278</th>\n",
       "      <td>493412</td>\n",
       "      <td>TEST001</td>\n",
       "      <td>This is a test product.</td>\n",
       "      <td>5</td>\n",
       "      <td>2010-01-04 09:53:00</td>\n",
       "      <td>7.4250</td>\n",
       "      <td>12346</td>\n",
       "      <td>United Kingdom</td>\n",
       "      <td>37.1250</td>\n",
       "    </tr>\n",
       "    <tr>\n",
       "      <th>37892</th>\n",
       "      <td>494450</td>\n",
       "      <td>TEST001</td>\n",
       "      <td>This is a test product.</td>\n",
       "      <td>5</td>\n",
       "      <td>2010-01-14 13:50:00</td>\n",
       "      <td>7.4250</td>\n",
       "      <td>12346</td>\n",
       "      <td>United Kingdom</td>\n",
       "      <td>37.1250</td>\n",
       "    </tr>\n",
       "    <tr>\n",
       "      <th>44909</th>\n",
       "      <td>495295</td>\n",
       "      <td>TEST001</td>\n",
       "      <td>This is a test product.</td>\n",
       "      <td>5</td>\n",
       "      <td>2010-01-22 13:30:00</td>\n",
       "      <td>7.4250</td>\n",
       "      <td>12346</td>\n",
       "      <td>United Kingdom</td>\n",
       "      <td>37.1250</td>\n",
       "    </tr>\n",
       "    <tr>\n",
       "      <th>49055</th>\n",
       "      <td>C495800</td>\n",
       "      <td>ADJUST</td>\n",
       "      <td>Adjustment by john on 26/01/2010 17</td>\n",
       "      <td>-1</td>\n",
       "      <td>2010-01-26 17:27:00</td>\n",
       "      <td>170.7750</td>\n",
       "      <td>12346</td>\n",
       "      <td>United Kingdom</td>\n",
       "      <td>-170.7750</td>\n",
       "    </tr>\n",
       "    <tr>\n",
       "      <th>78388</th>\n",
       "      <td>499763</td>\n",
       "      <td>20682</td>\n",
       "      <td>RED SPOTTY CHILDS UMBRELLA</td>\n",
       "      <td>1</td>\n",
       "      <td>2010-03-02 13:08:00</td>\n",
       "      <td>5.3625</td>\n",
       "      <td>12346</td>\n",
       "      <td>United Kingdom</td>\n",
       "      <td>5.3625</td>\n",
       "    </tr>\n",
       "    <tr>\n",
       "      <th>78389</th>\n",
       "      <td>499763</td>\n",
       "      <td>20679</td>\n",
       "      <td>EDWARDIAN PARASOL RED</td>\n",
       "      <td>1</td>\n",
       "      <td>2010-03-02 13:08:00</td>\n",
       "      <td>9.8175</td>\n",
       "      <td>12346</td>\n",
       "      <td>United Kingdom</td>\n",
       "      <td>9.8175</td>\n",
       "    </tr>\n",
       "    <tr>\n",
       "      <th>78390</th>\n",
       "      <td>499763</td>\n",
       "      <td>15056N</td>\n",
       "      <td>EDWARDIAN PARASOL NATURAL</td>\n",
       "      <td>1</td>\n",
       "      <td>2010-03-02 13:08:00</td>\n",
       "      <td>9.8175</td>\n",
       "      <td>12346</td>\n",
       "      <td>United Kingdom</td>\n",
       "      <td>9.8175</td>\n",
       "    </tr>\n",
       "    <tr>\n",
       "      <th>78391</th>\n",
       "      <td>499763</td>\n",
       "      <td>15056BL</td>\n",
       "      <td>EDWARDIAN PARASOL BLACK</td>\n",
       "      <td>1</td>\n",
       "      <td>2010-03-02 13:08:00</td>\n",
       "      <td>9.8175</td>\n",
       "      <td>12346</td>\n",
       "      <td>United Kingdom</td>\n",
       "      <td>9.8175</td>\n",
       "    </tr>\n",
       "    <tr>\n",
       "      <th>78392</th>\n",
       "      <td>499763</td>\n",
       "      <td>15056P</td>\n",
       "      <td>EDWARDIAN PARASOL PINK</td>\n",
       "      <td>1</td>\n",
       "      <td>2010-03-02 13:08:00</td>\n",
       "      <td>9.8175</td>\n",
       "      <td>12346</td>\n",
       "      <td>United Kingdom</td>\n",
       "      <td>9.8175</td>\n",
       "    </tr>\n",
       "    <tr>\n",
       "      <th>194356</th>\n",
       "      <td>513774</td>\n",
       "      <td>21524</td>\n",
       "      <td>DOORMAT SPOTTY HOME SWEET HOME</td>\n",
       "      <td>1</td>\n",
       "      <td>2010-06-28 13:53:00</td>\n",
       "      <td>12.3585</td>\n",
       "      <td>12346</td>\n",
       "      <td>United Kingdom</td>\n",
       "      <td>12.3585</td>\n",
       "    </tr>\n",
       "    <tr>\n",
       "      <th>194357</th>\n",
       "      <td>513774</td>\n",
       "      <td>22692</td>\n",
       "      <td>DOORMAT WELCOME TO OUR HOME</td>\n",
       "      <td>1</td>\n",
       "      <td>2010-06-28 13:53:00</td>\n",
       "      <td>12.3585</td>\n",
       "      <td>12346</td>\n",
       "      <td>United Kingdom</td>\n",
       "      <td>12.3585</td>\n",
       "    </tr>\n",
       "    <tr>\n",
       "      <th>194358</th>\n",
       "      <td>513774</td>\n",
       "      <td>22660</td>\n",
       "      <td>DOORMAT I LOVE LONDON</td>\n",
       "      <td>1</td>\n",
       "      <td>2010-06-28 13:53:00</td>\n",
       "      <td>12.3585</td>\n",
       "      <td>12346</td>\n",
       "      <td>United Kingdom</td>\n",
       "      <td>12.3585</td>\n",
       "    </tr>\n",
       "    <tr>\n",
       "      <th>194359</th>\n",
       "      <td>513774</td>\n",
       "      <td>22687</td>\n",
       "      <td>DOORMAT CHRISTMAS VILLAGE</td>\n",
       "      <td>1</td>\n",
       "      <td>2010-06-28 13:53:00</td>\n",
       "      <td>12.3585</td>\n",
       "      <td>12346</td>\n",
       "      <td>United Kingdom</td>\n",
       "      <td>12.3585</td>\n",
       "    </tr>\n",
       "    <tr>\n",
       "      <th>194360</th>\n",
       "      <td>513774</td>\n",
       "      <td>48173C</td>\n",
       "      <td>DOORMAT BLACK FLOCK</td>\n",
       "      <td>1</td>\n",
       "      <td>2010-06-28 13:53:00</td>\n",
       "      <td>12.3585</td>\n",
       "      <td>12346</td>\n",
       "      <td>United Kingdom</td>\n",
       "      <td>12.3585</td>\n",
       "    </tr>\n",
       "    <tr>\n",
       "      <th>194361</th>\n",
       "      <td>513774</td>\n",
       "      <td>22691</td>\n",
       "      <td>DOORMAT WELCOME SUNRISE</td>\n",
       "      <td>1</td>\n",
       "      <td>2010-06-28 13:53:00</td>\n",
       "      <td>12.3585</td>\n",
       "      <td>12346</td>\n",
       "      <td>United Kingdom</td>\n",
       "      <td>12.3585</td>\n",
       "    </tr>\n",
       "    <tr>\n",
       "      <th>194362</th>\n",
       "      <td>513774</td>\n",
       "      <td>48111</td>\n",
       "      <td>DOORMAT 3 SMILEY CATS</td>\n",
       "      <td>1</td>\n",
       "      <td>2010-06-28 13:53:00</td>\n",
       "      <td>12.3585</td>\n",
       "      <td>12346</td>\n",
       "      <td>United Kingdom</td>\n",
       "      <td>12.3585</td>\n",
       "    </tr>\n",
       "    <tr>\n",
       "      <th>194363</th>\n",
       "      <td>513774</td>\n",
       "      <td>22690</td>\n",
       "      <td>DOORMAT HOME SWEET HOME BLUE</td>\n",
       "      <td>1</td>\n",
       "      <td>2010-06-28 13:53:00</td>\n",
       "      <td>12.3585</td>\n",
       "      <td>12346</td>\n",
       "      <td>United Kingdom</td>\n",
       "      <td>12.3585</td>\n",
       "    </tr>\n",
       "    <tr>\n",
       "      <th>194364</th>\n",
       "      <td>513774</td>\n",
       "      <td>21523</td>\n",
       "      <td>DOORMAT FANCY FONT HOME SWEET HOME</td>\n",
       "      <td>1</td>\n",
       "      <td>2010-06-28 13:53:00</td>\n",
       "      <td>12.3585</td>\n",
       "      <td>12346</td>\n",
       "      <td>United Kingdom</td>\n",
       "      <td>12.3585</td>\n",
       "    </tr>\n",
       "    <tr>\n",
       "      <th>194365</th>\n",
       "      <td>513774</td>\n",
       "      <td>48138</td>\n",
       "      <td>DOORMAT UNION FLAG</td>\n",
       "      <td>1</td>\n",
       "      <td>2010-06-28 13:53:00</td>\n",
       "      <td>12.3585</td>\n",
       "      <td>12346</td>\n",
       "      <td>United Kingdom</td>\n",
       "      <td>12.3585</td>\n",
       "    </tr>\n",
       "    <tr>\n",
       "      <th>194366</th>\n",
       "      <td>513774</td>\n",
       "      <td>22689</td>\n",
       "      <td>DOORMAT MERRY CHRISTMAS RED</td>\n",
       "      <td>1</td>\n",
       "      <td>2010-06-28 13:53:00</td>\n",
       "      <td>12.3585</td>\n",
       "      <td>12346</td>\n",
       "      <td>United Kingdom</td>\n",
       "      <td>12.3585</td>\n",
       "    </tr>\n",
       "    <tr>\n",
       "      <th>194367</th>\n",
       "      <td>513774</td>\n",
       "      <td>22365</td>\n",
       "      <td>DOORMAT RESPECTABLE HOUSE</td>\n",
       "      <td>1</td>\n",
       "      <td>2010-06-28 13:53:00</td>\n",
       "      <td>12.3585</td>\n",
       "      <td>12346</td>\n",
       "      <td>United Kingdom</td>\n",
       "      <td>12.3585</td>\n",
       "    </tr>\n",
       "    <tr>\n",
       "      <th>194368</th>\n",
       "      <td>513774</td>\n",
       "      <td>48185</td>\n",
       "      <td>DOORMAT FAIRY CAKE</td>\n",
       "      <td>1</td>\n",
       "      <td>2010-06-28 13:53:00</td>\n",
       "      <td>12.3585</td>\n",
       "      <td>12346</td>\n",
       "      <td>United Kingdom</td>\n",
       "      <td>12.3585</td>\n",
       "    </tr>\n",
       "    <tr>\n",
       "      <th>194369</th>\n",
       "      <td>513774</td>\n",
       "      <td>22688</td>\n",
       "      <td>DOORMAT PEACE ON EARTH BLUE</td>\n",
       "      <td>1</td>\n",
       "      <td>2010-06-28 13:53:00</td>\n",
       "      <td>12.3585</td>\n",
       "      <td>12346</td>\n",
       "      <td>United Kingdom</td>\n",
       "      <td>12.3585</td>\n",
       "    </tr>\n",
       "    <tr>\n",
       "      <th>194370</th>\n",
       "      <td>513774</td>\n",
       "      <td>48188</td>\n",
       "      <td>DOORMAT WELCOME PUPPIES</td>\n",
       "      <td>1</td>\n",
       "      <td>2010-06-28 13:53:00</td>\n",
       "      <td>12.3585</td>\n",
       "      <td>12346</td>\n",
       "      <td>United Kingdom</td>\n",
       "      <td>12.3585</td>\n",
       "    </tr>\n",
       "    <tr>\n",
       "      <th>194371</th>\n",
       "      <td>513774</td>\n",
       "      <td>48187</td>\n",
       "      <td>DOORMAT NEW ENGLAND</td>\n",
       "      <td>1</td>\n",
       "      <td>2010-06-28 13:53:00</td>\n",
       "      <td>12.3585</td>\n",
       "      <td>12346</td>\n",
       "      <td>United Kingdom</td>\n",
       "      <td>12.3585</td>\n",
       "    </tr>\n",
       "    <tr>\n",
       "      <th>194372</th>\n",
       "      <td>513774</td>\n",
       "      <td>22366</td>\n",
       "      <td>DOORMAT AIRMAIL</td>\n",
       "      <td>1</td>\n",
       "      <td>2010-06-28 13:53:00</td>\n",
       "      <td>12.3585</td>\n",
       "      <td>12346</td>\n",
       "      <td>United Kingdom</td>\n",
       "      <td>12.3585</td>\n",
       "    </tr>\n",
       "    <tr>\n",
       "      <th>194373</th>\n",
       "      <td>513774</td>\n",
       "      <td>20685</td>\n",
       "      <td>DOORMAT RED SPOT</td>\n",
       "      <td>1</td>\n",
       "      <td>2010-06-28 13:53:00</td>\n",
       "      <td>12.3585</td>\n",
       "      <td>12346</td>\n",
       "      <td>United Kingdom</td>\n",
       "      <td>12.3585</td>\n",
       "    </tr>\n",
       "    <tr>\n",
       "      <th>194374</th>\n",
       "      <td>513774</td>\n",
       "      <td>21955</td>\n",
       "      <td>DOORMAT UNION JACK GUNS AND ROSES</td>\n",
       "      <td>1</td>\n",
       "      <td>2010-06-28 13:53:00</td>\n",
       "      <td>12.3585</td>\n",
       "      <td>12346</td>\n",
       "      <td>United Kingdom</td>\n",
       "      <td>12.3585</td>\n",
       "    </tr>\n",
       "    <tr>\n",
       "      <th>196542</th>\n",
       "      <td>C514024</td>\n",
       "      <td>M</td>\n",
       "      <td>Manual</td>\n",
       "      <td>-1</td>\n",
       "      <td>2010-06-30 11:22:00</td>\n",
       "      <td>8.5470</td>\n",
       "      <td>12346</td>\n",
       "      <td>United Kingdom</td>\n",
       "      <td>-8.5470</td>\n",
       "    </tr>\n",
       "    <tr>\n",
       "      <th>196543</th>\n",
       "      <td>C514024</td>\n",
       "      <td>M</td>\n",
       "      <td>Manual</td>\n",
       "      <td>-1</td>\n",
       "      <td>2010-06-30 11:22:00</td>\n",
       "      <td>21.3510</td>\n",
       "      <td>12346</td>\n",
       "      <td>United Kingdom</td>\n",
       "      <td>-21.3510</td>\n",
       "    </tr>\n",
       "    <tr>\n",
       "      <th>196544</th>\n",
       "      <td>C514024</td>\n",
       "      <td>M</td>\n",
       "      <td>Manual</td>\n",
       "      <td>-1</td>\n",
       "      <td>2010-06-30 11:22:00</td>\n",
       "      <td>7.6890</td>\n",
       "      <td>12346</td>\n",
       "      <td>United Kingdom</td>\n",
       "      <td>-7.6890</td>\n",
       "    </tr>\n",
       "    <tr>\n",
       "      <th>196545</th>\n",
       "      <td>C514024</td>\n",
       "      <td>M</td>\n",
       "      <td>Manual</td>\n",
       "      <td>-1</td>\n",
       "      <td>2010-06-30 11:22:00</td>\n",
       "      <td>42.7020</td>\n",
       "      <td>12346</td>\n",
       "      <td>United Kingdom</td>\n",
       "      <td>-42.7020</td>\n",
       "    </tr>\n",
       "    <tr>\n",
       "      <th>196546</th>\n",
       "      <td>C514024</td>\n",
       "      <td>M</td>\n",
       "      <td>Manual</td>\n",
       "      <td>-3</td>\n",
       "      <td>2010-06-30 11:22:00</td>\n",
       "      <td>21.3510</td>\n",
       "      <td>12346</td>\n",
       "      <td>United Kingdom</td>\n",
       "      <td>-64.0530</td>\n",
       "    </tr>\n",
       "    <tr>\n",
       "      <th>196547</th>\n",
       "      <td>C514024</td>\n",
       "      <td>M</td>\n",
       "      <td>Manual</td>\n",
       "      <td>-1</td>\n",
       "      <td>2010-06-30 11:22:00</td>\n",
       "      <td>1.8975</td>\n",
       "      <td>12346</td>\n",
       "      <td>United Kingdom</td>\n",
       "      <td>-1.8975</td>\n",
       "    </tr>\n",
       "    <tr>\n",
       "      <th>196548</th>\n",
       "      <td>C514024</td>\n",
       "      <td>M</td>\n",
       "      <td>Manual</td>\n",
       "      <td>-4</td>\n",
       "      <td>2010-06-30 11:22:00</td>\n",
       "      <td>21.8130</td>\n",
       "      <td>12346</td>\n",
       "      <td>United Kingdom</td>\n",
       "      <td>-87.2520</td>\n",
       "    </tr>\n",
       "    <tr>\n",
       "      <th>196549</th>\n",
       "      <td>C514024</td>\n",
       "      <td>M</td>\n",
       "      <td>Manual</td>\n",
       "      <td>-1</td>\n",
       "      <td>2010-06-30 11:22:00</td>\n",
       "      <td>52.4370</td>\n",
       "      <td>12346</td>\n",
       "      <td>United Kingdom</td>\n",
       "      <td>-52.4370</td>\n",
       "    </tr>\n",
       "    <tr>\n",
       "      <th>196550</th>\n",
       "      <td>C514024</td>\n",
       "      <td>M</td>\n",
       "      <td>Manual</td>\n",
       "      <td>-1</td>\n",
       "      <td>2010-06-30 11:22:00</td>\n",
       "      <td>234.8115</td>\n",
       "      <td>12346</td>\n",
       "      <td>United Kingdom</td>\n",
       "      <td>-234.8115</td>\n",
       "    </tr>\n",
       "    <tr>\n",
       "      <th>290224</th>\n",
       "      <td>C525099</td>\n",
       "      <td>D</td>\n",
       "      <td>Discount</td>\n",
       "      <td>-1</td>\n",
       "      <td>2010-10-04 09:54:00</td>\n",
       "      <td>1.6500</td>\n",
       "      <td>12346</td>\n",
       "      <td>United Kingdom</td>\n",
       "      <td>-1.6500</td>\n",
       "    </tr>\n",
       "    <tr>\n",
       "      <th>291616</th>\n",
       "      <td>C525274</td>\n",
       "      <td>TEST001</td>\n",
       "      <td>This is a test product.</td>\n",
       "      <td>-1</td>\n",
       "      <td>2010-10-04 16:33:00</td>\n",
       "      <td>7.4250</td>\n",
       "      <td>12346</td>\n",
       "      <td>United Kingdom</td>\n",
       "      <td>-7.4250</td>\n",
       "    </tr>\n",
       "    <tr>\n",
       "      <th>433791</th>\n",
       "      <td>541431</td>\n",
       "      <td>23166</td>\n",
       "      <td>MEDIUM CERAMIC TOP STORAGE JAR</td>\n",
       "      <td>74215</td>\n",
       "      <td>2011-01-18 10:01:00</td>\n",
       "      <td>1.7160</td>\n",
       "      <td>12346</td>\n",
       "      <td>United Kingdom</td>\n",
       "      <td>127352.9400</td>\n",
       "    </tr>\n",
       "    <tr>\n",
       "      <th>433796</th>\n",
       "      <td>C541433</td>\n",
       "      <td>23166</td>\n",
       "      <td>MEDIUM CERAMIC TOP STORAGE JAR</td>\n",
       "      <td>-74215</td>\n",
       "      <td>2011-01-18 10:17:00</td>\n",
       "      <td>1.7160</td>\n",
       "      <td>12346</td>\n",
       "      <td>United Kingdom</td>\n",
       "      <td>-127352.9400</td>\n",
       "    </tr>\n",
       "  </tbody>\n",
       "</table>\n",
       "</div>"
      ],
      "text/plain": [
       "       order_id product_id                          description  quantity  \\\n",
       "21447    491725    TEST001              This is a test product.        10   \n",
       "21702    491742    TEST001              This is a test product.         5   \n",
       "21705    491744    TEST001              This is a test product.         5   \n",
       "28492    492718    TEST001              This is a test product.         5   \n",
       "28504    492722    TEST002              This is a test product.         1   \n",
       "31276    493410    TEST001              This is a test product.         5   \n",
       "31278    493412    TEST001              This is a test product.         5   \n",
       "37892    494450    TEST001              This is a test product.         5   \n",
       "44909    495295    TEST001              This is a test product.         5   \n",
       "49055   C495800     ADJUST  Adjustment by john on 26/01/2010 17        -1   \n",
       "78388    499763      20682           RED SPOTTY CHILDS UMBRELLA         1   \n",
       "78389    499763      20679                EDWARDIAN PARASOL RED         1   \n",
       "78390    499763     15056N            EDWARDIAN PARASOL NATURAL         1   \n",
       "78391    499763    15056BL              EDWARDIAN PARASOL BLACK         1   \n",
       "78392    499763     15056P               EDWARDIAN PARASOL PINK         1   \n",
       "194356   513774      21524       DOORMAT SPOTTY HOME SWEET HOME         1   \n",
       "194357   513774      22692          DOORMAT WELCOME TO OUR HOME         1   \n",
       "194358   513774      22660                DOORMAT I LOVE LONDON         1   \n",
       "194359   513774      22687            DOORMAT CHRISTMAS VILLAGE         1   \n",
       "194360   513774     48173C                 DOORMAT BLACK FLOCK          1   \n",
       "194361   513774      22691              DOORMAT WELCOME SUNRISE         1   \n",
       "194362   513774      48111                DOORMAT 3 SMILEY CATS         1   \n",
       "194363   513774      22690        DOORMAT HOME SWEET HOME BLUE          1   \n",
       "194364   513774      21523   DOORMAT FANCY FONT HOME SWEET HOME         1   \n",
       "194365   513774      48138                   DOORMAT UNION FLAG         1   \n",
       "194366   513774      22689         DOORMAT MERRY CHRISTMAS RED          1   \n",
       "194367   513774      22365            DOORMAT RESPECTABLE HOUSE         1   \n",
       "194368   513774      48185                   DOORMAT FAIRY CAKE         1   \n",
       "194369   513774      22688          DOORMAT PEACE ON EARTH BLUE         1   \n",
       "194370   513774      48188              DOORMAT WELCOME PUPPIES         1   \n",
       "194371   513774      48187                  DOORMAT NEW ENGLAND         1   \n",
       "194372   513774      22366                     DOORMAT AIRMAIL          1   \n",
       "194373   513774      20685                     DOORMAT RED SPOT         1   \n",
       "194374   513774      21955    DOORMAT UNION JACK GUNS AND ROSES         1   \n",
       "196542  C514024          M                               Manual        -1   \n",
       "196543  C514024          M                               Manual        -1   \n",
       "196544  C514024          M                               Manual        -1   \n",
       "196545  C514024          M                               Manual        -1   \n",
       "196546  C514024          M                               Manual        -3   \n",
       "196547  C514024          M                               Manual        -1   \n",
       "196548  C514024          M                               Manual        -4   \n",
       "196549  C514024          M                               Manual        -1   \n",
       "196550  C514024          M                               Manual        -1   \n",
       "290224  C525099          D                             Discount        -1   \n",
       "291616  C525274    TEST001              This is a test product.        -1   \n",
       "433791   541431      23166       MEDIUM CERAMIC TOP STORAGE JAR     74215   \n",
       "433796  C541433      23166       MEDIUM CERAMIC TOP STORAGE JAR    -74215   \n",
       "\n",
       "                 order_date     price  customer_id         country  \\\n",
       "21447   2009-12-14 08:34:00    7.4250        12346  United Kingdom   \n",
       "21702   2009-12-14 11:00:00    7.4250        12346  United Kingdom   \n",
       "21705   2009-12-14 11:02:00    7.4250        12346  United Kingdom   \n",
       "28492   2009-12-18 10:47:00    7.4250        12346  United Kingdom   \n",
       "28504   2009-12-18 10:55:00    1.6500        12346  United Kingdom   \n",
       "31276   2010-01-04 09:24:00    7.4250        12346  United Kingdom   \n",
       "31278   2010-01-04 09:53:00    7.4250        12346  United Kingdom   \n",
       "37892   2010-01-14 13:50:00    7.4250        12346  United Kingdom   \n",
       "44909   2010-01-22 13:30:00    7.4250        12346  United Kingdom   \n",
       "49055   2010-01-26 17:27:00  170.7750        12346  United Kingdom   \n",
       "78388   2010-03-02 13:08:00    5.3625        12346  United Kingdom   \n",
       "78389   2010-03-02 13:08:00    9.8175        12346  United Kingdom   \n",
       "78390   2010-03-02 13:08:00    9.8175        12346  United Kingdom   \n",
       "78391   2010-03-02 13:08:00    9.8175        12346  United Kingdom   \n",
       "78392   2010-03-02 13:08:00    9.8175        12346  United Kingdom   \n",
       "194356  2010-06-28 13:53:00   12.3585        12346  United Kingdom   \n",
       "194357  2010-06-28 13:53:00   12.3585        12346  United Kingdom   \n",
       "194358  2010-06-28 13:53:00   12.3585        12346  United Kingdom   \n",
       "194359  2010-06-28 13:53:00   12.3585        12346  United Kingdom   \n",
       "194360  2010-06-28 13:53:00   12.3585        12346  United Kingdom   \n",
       "194361  2010-06-28 13:53:00   12.3585        12346  United Kingdom   \n",
       "194362  2010-06-28 13:53:00   12.3585        12346  United Kingdom   \n",
       "194363  2010-06-28 13:53:00   12.3585        12346  United Kingdom   \n",
       "194364  2010-06-28 13:53:00   12.3585        12346  United Kingdom   \n",
       "194365  2010-06-28 13:53:00   12.3585        12346  United Kingdom   \n",
       "194366  2010-06-28 13:53:00   12.3585        12346  United Kingdom   \n",
       "194367  2010-06-28 13:53:00   12.3585        12346  United Kingdom   \n",
       "194368  2010-06-28 13:53:00   12.3585        12346  United Kingdom   \n",
       "194369  2010-06-28 13:53:00   12.3585        12346  United Kingdom   \n",
       "194370  2010-06-28 13:53:00   12.3585        12346  United Kingdom   \n",
       "194371  2010-06-28 13:53:00   12.3585        12346  United Kingdom   \n",
       "194372  2010-06-28 13:53:00   12.3585        12346  United Kingdom   \n",
       "194373  2010-06-28 13:53:00   12.3585        12346  United Kingdom   \n",
       "194374  2010-06-28 13:53:00   12.3585        12346  United Kingdom   \n",
       "196542  2010-06-30 11:22:00    8.5470        12346  United Kingdom   \n",
       "196543  2010-06-30 11:22:00   21.3510        12346  United Kingdom   \n",
       "196544  2010-06-30 11:22:00    7.6890        12346  United Kingdom   \n",
       "196545  2010-06-30 11:22:00   42.7020        12346  United Kingdom   \n",
       "196546  2010-06-30 11:22:00   21.3510        12346  United Kingdom   \n",
       "196547  2010-06-30 11:22:00    1.8975        12346  United Kingdom   \n",
       "196548  2010-06-30 11:22:00   21.8130        12346  United Kingdom   \n",
       "196549  2010-06-30 11:22:00   52.4370        12346  United Kingdom   \n",
       "196550  2010-06-30 11:22:00  234.8115        12346  United Kingdom   \n",
       "290224  2010-10-04 09:54:00    1.6500        12346  United Kingdom   \n",
       "291616  2010-10-04 16:33:00    7.4250        12346  United Kingdom   \n",
       "433791  2011-01-18 10:01:00    1.7160        12346  United Kingdom   \n",
       "433796  2011-01-18 10:17:00    1.7160        12346  United Kingdom   \n",
       "\n",
       "              total  \n",
       "21447       74.2500  \n",
       "21702       37.1250  \n",
       "21705       37.1250  \n",
       "28492       37.1250  \n",
       "28504        1.6500  \n",
       "31276       37.1250  \n",
       "31278       37.1250  \n",
       "37892       37.1250  \n",
       "44909       37.1250  \n",
       "49055     -170.7750  \n",
       "78388        5.3625  \n",
       "78389        9.8175  \n",
       "78390        9.8175  \n",
       "78391        9.8175  \n",
       "78392        9.8175  \n",
       "194356      12.3585  \n",
       "194357      12.3585  \n",
       "194358      12.3585  \n",
       "194359      12.3585  \n",
       "194360      12.3585  \n",
       "194361      12.3585  \n",
       "194362      12.3585  \n",
       "194363      12.3585  \n",
       "194364      12.3585  \n",
       "194365      12.3585  \n",
       "194366      12.3585  \n",
       "194367      12.3585  \n",
       "194368      12.3585  \n",
       "194369      12.3585  \n",
       "194370      12.3585  \n",
       "194371      12.3585  \n",
       "194372      12.3585  \n",
       "194373      12.3585  \n",
       "194374      12.3585  \n",
       "196542      -8.5470  \n",
       "196543     -21.3510  \n",
       "196544      -7.6890  \n",
       "196545     -42.7020  \n",
       "196546     -64.0530  \n",
       "196547      -1.8975  \n",
       "196548     -87.2520  \n",
       "196549     -52.4370  \n",
       "196550    -234.8115  \n",
       "290224      -1.6500  \n",
       "291616      -7.4250  \n",
       "433791  127352.9400  \n",
       "433796 -127352.9400  "
      ]
     },
     "execution_count": 11,
     "metadata": {},
     "output_type": "execute_result"
    }
   ],
   "source": [
    "train[train.customer_id==train.customer_id.min()]"
   ]
  },
  {
   "cell_type": "markdown",
   "id": "7245e324",
   "metadata": {},
   "source": [
    "# 분석\n",
    "1. object type인 컬럼 중 눈여겨 볼 것 : order_id, product_id\n",
    "    - order_id : 맨 앞에 'C' 붙어있음\n",
    "    - product_id : 5digit 외로 M,D,TEST,숫자 외 문자 첨가된 케이스들 존재 \n",
    "2. 컬럼 간의 관계\n",
    "    - order_id ~ order_date : 다른 product_id를 가져도 order_date가 같으면 order_id는 모두 동일하다.\n",
    "3. 로그 생성 최소 단위\n",
    "    - 분 단위\n",
    "4. 결측치\n",
    "    - 없음 "
   ]
  },
  {
   "cell_type": "code",
   "execution_count": 12,
   "id": "5bee5ab0",
   "metadata": {},
   "outputs": [],
   "source": [
    "############데이터 가공##############\n",
    "def make_time_series_data(train,criteria):\n",
    "    # to_datetime\n",
    "    standard=['customer_id',criteria]\n",
    "    data=train[:]\n",
    "    data[standard[1]]=pd.to_datetime(train.order_date).dt.strftime(standard[1])\n",
    "    data.order_date=pd.to_datetime(data.order_date)\n",
    "\n",
    "    # 월 단위로 틀을 만들고, 기준으로 aggregate해준 후 merge\n",
    "    times=pd.date_range('2009-12-01',periods=(data.order_date.max()-data.order_date.min()).days+1,freq='1d') # x축\n",
    "    date_frame=np.tile(times,len(data.customer_id.unique()))\n",
    "    customer_id_frame=np.repeat(data.customer_id.unique(),len(times)) # array([13085, 13085, 13085, ..., 17911, 17911, 17911])\n",
    "\n",
    "    frame=pd.DataFrame({'customer_id':customer_id_frame, 'order_date':date_frame})\n",
    "    frame[standard[1]]=pd.to_datetime(frame.order_date).dt.strftime(standard[1])\n",
    "\n",
    "\n",
    "    # groupby\n",
    "    data_group=data.groupby(standard).sum().reset_index() # 월별로 num sum\n",
    "    frame_group=frame.groupby(standard).count().reset_index().drop(['order_date'],axis=1) # standard 틀\n",
    "\n",
    "    # merge\n",
    "    merge=pd.merge(frame_group,data_group,on=standard,how='left').fillna(0)\n",
    "    return merge"
   ]
  },
  {
   "cell_type": "code",
   "execution_count": 13,
   "id": "83613c37",
   "metadata": {},
   "outputs": [
    {
     "data": {
      "text/html": [
       "<div>\n",
       "<style scoped>\n",
       "    .dataframe tbody tr th:only-of-type {\n",
       "        vertical-align: middle;\n",
       "    }\n",
       "\n",
       "    .dataframe tbody tr th {\n",
       "        vertical-align: top;\n",
       "    }\n",
       "\n",
       "    .dataframe thead th {\n",
       "        text-align: right;\n",
       "    }\n",
       "</style>\n",
       "<table border=\"1\" class=\"dataframe\">\n",
       "  <thead>\n",
       "    <tr style=\"text-align: right;\">\n",
       "      <th></th>\n",
       "      <th>customer_id</th>\n",
       "      <th>per_month</th>\n",
       "      <th>quantity</th>\n",
       "      <th>price</th>\n",
       "      <th>total</th>\n",
       "    </tr>\n",
       "  </thead>\n",
       "  <tbody>\n",
       "    <tr>\n",
       "      <th>0</th>\n",
       "      <td>12346</td>\n",
       "      <td>2009-12</td>\n",
       "      <td>26.0</td>\n",
       "      <td>31.3500</td>\n",
       "      <td>187.2750</td>\n",
       "    </tr>\n",
       "    <tr>\n",
       "      <th>1</th>\n",
       "      <td>12346</td>\n",
       "      <td>2010-01</td>\n",
       "      <td>19.0</td>\n",
       "      <td>200.4750</td>\n",
       "      <td>-22.2750</td>\n",
       "    </tr>\n",
       "    <tr>\n",
       "      <th>2</th>\n",
       "      <td>12346</td>\n",
       "      <td>2010-02</td>\n",
       "      <td>0.0</td>\n",
       "      <td>0.0000</td>\n",
       "      <td>0.0000</td>\n",
       "    </tr>\n",
       "    <tr>\n",
       "      <th>3</th>\n",
       "      <td>12346</td>\n",
       "      <td>2010-03</td>\n",
       "      <td>5.0</td>\n",
       "      <td>44.6325</td>\n",
       "      <td>44.6325</td>\n",
       "    </tr>\n",
       "    <tr>\n",
       "      <th>4</th>\n",
       "      <td>12346</td>\n",
       "      <td>2010-04</td>\n",
       "      <td>0.0</td>\n",
       "      <td>0.0000</td>\n",
       "      <td>0.0000</td>\n",
       "    </tr>\n",
       "  </tbody>\n",
       "</table>\n",
       "</div>"
      ],
      "text/plain": [
       "   customer_id per_month  quantity     price     total\n",
       "0        12346   2009-12      26.0   31.3500  187.2750\n",
       "1        12346   2010-01      19.0  200.4750  -22.2750\n",
       "2        12346   2010-02       0.0    0.0000    0.0000\n",
       "3        12346   2010-03       5.0   44.6325   44.6325\n",
       "4        12346   2010-04       0.0    0.0000    0.0000"
      ]
     },
     "execution_count": 13,
     "metadata": {},
     "output_type": "execute_result"
    }
   ],
   "source": [
    "merge_temp=make_time_series_data(train,'%Y-%m')\n",
    "merge_temp=merge_temp.rename(columns={'%Y-%m':'per_month'})\n",
    "merge_temp.head()"
   ]
  },
  {
   "cell_type": "code",
   "execution_count": 14,
   "id": "d7e9716e",
   "metadata": {},
   "outputs": [
    {
     "data": {
      "image/png": "[encoded data removed]",
      "text/plain": [
       "<Figure size 1080x360 with 1 Axes>"
      ]
     },
     "metadata": {
      "needs_background": "light"
     },
     "output_type": "display_data"
    }
   ],
   "source": [
    "%matplotlib inline\n",
    "plt.rcParams['figure.figsize']=(15,5)\n",
    "plt.rcParams['lines.linewidth']=4\n",
    "\n",
    "for customer_id in merge_temp.customer_id.unique()[:5]:\n",
    "    temp=merge_temp[merge_temp.customer_id==customer_id][['per_month','total']]\n",
    "\n",
    "    plt.plot(temp.per_month, temp.total, label=\"customer_id : \" + str(customer_id))       \n",
    "    plt.legend()\n",
    "    plt.xticks(rotation=90)\n",
    "    plt.title(\"total\", size=20)\n",
    "    plt.tight_layout()"
   ]
  },
  {
   "cell_type": "code",
   "execution_count": 15,
   "id": "e336cb72",
   "metadata": {},
   "outputs": [
    {
     "data": {
      "image/png": "[encoded data removed]",
      "text/plain": [
       "<Figure size 1080x360 with 1 Axes>"
      ]
     },
     "metadata": {
      "needs_background": "light"
     },
     "output_type": "display_data"
    }
   ],
   "source": [
    "for customer_id in merge_temp.customer_id.unique()[0:5]:\n",
    "    \n",
    "    temp = merge_temp[merge_temp.customer_id == customer_id][[\"per_month\",'total']]    \n",
    "    plt.plot(temp.per_month, temp.total.rolling(window=3).mean(), label=\"customer_id: \" + str(customer_id))\n",
    "    plt.legend()\n",
    "    plt.xticks(rotation=90)\n",
    "    plt.title(\"total(smoothing)\", size=20)\n",
    "    plt.tight_layout()"
   ]
  },
  {
   "cell_type": "markdown",
   "id": "f1aa5457",
   "metadata": {},
   "source": [
    "구매기록이 거의 항상 0에 가까운 고객도 있고\n",
    "\n",
    "꽤 주기적으로 구매하는 고객들도 있습니다.\n",
    "\n",
    "또한, 조심해야할 부분이 2012년 12월 total 300 이상 혹은 미만 인데\n",
    "\n",
    "앞선 기간 (예를 들면 2009년 12 ~ 2010년 12)에 많은 구매를 하고, 2011년도에는 구매 기록이 없는 경우 등,\n",
    "\n",
    "이러한 부분들도 유심히 봐야할 것 같다는 생각이 듭니다.\n",
    "\n",
    "혹은, 이 데이터 자체를 sequential한 데이터로 간주하고 다양한 방법들을 사용해 볼 수도 있을 것 같습니다"
   ]
  },
  {
   "cell_type": "code",
   "execution_count": 16,
   "id": "57b06dbe",
   "metadata": {},
   "outputs": [
    {
     "data": {
      "text/html": [
       "<div>\n",
       "<style scoped>\n",
       "    .dataframe tbody tr th:only-of-type {\n",
       "        vertical-align: middle;\n",
       "    }\n",
       "\n",
       "    .dataframe tbody tr th {\n",
       "        vertical-align: top;\n",
       "    }\n",
       "\n",
       "    .dataframe thead th {\n",
       "        text-align: right;\n",
       "    }\n",
       "</style>\n",
       "<table border=\"1\" class=\"dataframe\">\n",
       "  <thead>\n",
       "    <tr style=\"text-align: right;\">\n",
       "      <th></th>\n",
       "      <th>order_id</th>\n",
       "      <th>product_id</th>\n",
       "      <th>description</th>\n",
       "      <th>quantity</th>\n",
       "      <th>order_date</th>\n",
       "      <th>price</th>\n",
       "      <th>customer_id</th>\n",
       "      <th>country</th>\n",
       "      <th>total</th>\n",
       "    </tr>\n",
       "  </thead>\n",
       "  <tbody>\n",
       "    <tr>\n",
       "      <th>0</th>\n",
       "      <td>489434</td>\n",
       "      <td>85048</td>\n",
       "      <td>15CM CHRISTMAS GLASS BALL 20 LIGHTS</td>\n",
       "      <td>12</td>\n",
       "      <td>2009-12-01 07:45:00</td>\n",
       "      <td>11.4675</td>\n",
       "      <td>13085</td>\n",
       "      <td>United Kingdom</td>\n",
       "      <td>137.61</td>\n",
       "    </tr>\n",
       "    <tr>\n",
       "      <th>1</th>\n",
       "      <td>489434</td>\n",
       "      <td>79323P</td>\n",
       "      <td>PINK CHERRY LIGHTS</td>\n",
       "      <td>12</td>\n",
       "      <td>2009-12-01 07:45:00</td>\n",
       "      <td>11.1375</td>\n",
       "      <td>13085</td>\n",
       "      <td>United Kingdom</td>\n",
       "      <td>133.65</td>\n",
       "    </tr>\n",
       "    <tr>\n",
       "      <th>2</th>\n",
       "      <td>489434</td>\n",
       "      <td>79323W</td>\n",
       "      <td>WHITE CHERRY LIGHTS</td>\n",
       "      <td>12</td>\n",
       "      <td>2009-12-01 07:45:00</td>\n",
       "      <td>11.1375</td>\n",
       "      <td>13085</td>\n",
       "      <td>United Kingdom</td>\n",
       "      <td>133.65</td>\n",
       "    </tr>\n",
       "    <tr>\n",
       "      <th>3</th>\n",
       "      <td>489434</td>\n",
       "      <td>22041</td>\n",
       "      <td>RECORD FRAME 7\" SINGLE SIZE</td>\n",
       "      <td>48</td>\n",
       "      <td>2009-12-01 07:45:00</td>\n",
       "      <td>3.4650</td>\n",
       "      <td>13085</td>\n",
       "      <td>United Kingdom</td>\n",
       "      <td>166.32</td>\n",
       "    </tr>\n",
       "    <tr>\n",
       "      <th>4</th>\n",
       "      <td>489434</td>\n",
       "      <td>21232</td>\n",
       "      <td>STRAWBERRY CERAMIC TRINKET BOX</td>\n",
       "      <td>24</td>\n",
       "      <td>2009-12-01 07:45:00</td>\n",
       "      <td>2.0625</td>\n",
       "      <td>13085</td>\n",
       "      <td>United Kingdom</td>\n",
       "      <td>49.50</td>\n",
       "    </tr>\n",
       "  </tbody>\n",
       "</table>\n",
       "</div>"
      ],
      "text/plain": [
       "  order_id product_id                          description  quantity  \\\n",
       "0   489434      85048  15CM CHRISTMAS GLASS BALL 20 LIGHTS        12   \n",
       "1   489434     79323P                   PINK CHERRY LIGHTS        12   \n",
       "2   489434     79323W                  WHITE CHERRY LIGHTS        12   \n",
       "3   489434      22041         RECORD FRAME 7\" SINGLE SIZE         48   \n",
       "4   489434      21232       STRAWBERRY CERAMIC TRINKET BOX        24   \n",
       "\n",
       "            order_date    price  customer_id         country   total  \n",
       "0  2009-12-01 07:45:00  11.4675        13085  United Kingdom  137.61  \n",
       "1  2009-12-01 07:45:00  11.1375        13085  United Kingdom  133.65  \n",
       "2  2009-12-01 07:45:00  11.1375        13085  United Kingdom  133.65  \n",
       "3  2009-12-01 07:45:00   3.4650        13085  United Kingdom  166.32  \n",
       "4  2009-12-01 07:45:00   2.0625        13085  United Kingdom   49.50  "
      ]
     },
     "execution_count": 16,
     "metadata": {},
     "output_type": "execute_result"
    }
   ],
   "source": [
    "train.head()"
   ]
  },
  {
   "cell_type": "code",
   "execution_count": 17,
   "id": "9a84ce38",
   "metadata": {},
   "outputs": [
    {
     "data": {
      "text/plain": [
       "43955"
      ]
     },
     "execution_count": 17,
     "metadata": {},
     "output_type": "execute_result"
    }
   ],
   "source": [
    "len(train.order_id.unique())"
   ]
  },
  {
   "cell_type": "code",
   "execution_count": 18,
   "id": "8605921c",
   "metadata": {},
   "outputs": [
    {
     "data": {
      "text/plain": [
       "4645"
      ]
     },
     "execution_count": 18,
     "metadata": {},
     "output_type": "execute_result"
    }
   ],
   "source": [
    "len(train.product_id.unique())"
   ]
  },
  {
   "cell_type": "code",
   "execution_count": 19,
   "id": "1c3199ac",
   "metadata": {},
   "outputs": [
    {
     "data": {
      "text/plain": [
       "5297"
      ]
     },
     "execution_count": 19,
     "metadata": {},
     "output_type": "execute_result"
    }
   ],
   "source": [
    "len(train.description.unique())"
   ]
  },
  {
   "cell_type": "code",
   "execution_count": 20,
   "id": "02b65098",
   "metadata": {},
   "outputs": [
    {
     "data": {
      "text/plain": [
       "74215"
      ]
     },
     "execution_count": 20,
     "metadata": {},
     "output_type": "execute_result"
    }
   ],
   "source": [
    "max(train.quantity)"
   ]
  },
  {
   "cell_type": "code",
   "execution_count": 21,
   "id": "a7bcbae9",
   "metadata": {},
   "outputs": [
    {
     "data": {
      "text/plain": [
       "64300.5"
      ]
     },
     "execution_count": 21,
     "metadata": {},
     "output_type": "execute_result"
    }
   ],
   "source": [
    "max(train.price)"
   ]
  },
  {
   "cell_type": "code",
   "execution_count": 22,
   "id": "3dda4808",
   "metadata": {},
   "outputs": [
    {
     "data": {
      "text/plain": [
       "5914"
      ]
     },
     "execution_count": 22,
     "metadata": {},
     "output_type": "execute_result"
    }
   ],
   "source": [
    "len(train.customer_id.unique())"
   ]
  },
  {
   "cell_type": "code",
   "execution_count": 23,
   "id": "6d8e9f51",
   "metadata": {},
   "outputs": [
    {
     "data": {
      "text/plain": [
       "41"
      ]
     },
     "execution_count": 23,
     "metadata": {},
     "output_type": "execute_result"
    }
   ],
   "source": [
    "len(train.country.unique())"
   ]
  },
  {
   "cell_type": "code",
   "execution_count": 24,
   "id": "123d1980",
   "metadata": {},
   "outputs": [
    {
     "data": {
      "text/plain": [
       "127352.94"
      ]
     },
     "execution_count": 24,
     "metadata": {},
     "output_type": "execute_result"
    }
   ],
   "source": [
    "max(train.total)"
   ]
  },
  {
   "cell_type": "code",
   "execution_count": 25,
   "id": "2d775da1",
   "metadata": {},
   "outputs": [
    {
     "data": {
      "text/plain": [
       "-127352.94"
      ]
     },
     "execution_count": 25,
     "metadata": {},
     "output_type": "execute_result"
    }
   ],
   "source": [
    "min(train.total)"
   ]
  },
  {
   "cell_type": "code",
   "execution_count": 26,
   "id": "9ebdee2a",
   "metadata": {},
   "outputs": [
    {
     "name": "stdout",
     "output_type": "stream",
     "text": [
      "Requirement already satisfied: sweetviz in /opt/conda/lib/python3.7/site-packages (2.1.0)\n",
      "Requirement already satisfied: scipy>=1.3.2 in /opt/conda/lib/python3.7/site-packages (from sweetviz) (1.6.2)\n",
      "Requirement already satisfied: matplotlib>=3.1.3 in /opt/conda/lib/python3.7/site-packages (from sweetviz) (3.1.3)\n",
      "Requirement already satisfied: pandas!=1.0.0,!=1.0.1,!=1.0.2,>=0.25.3 in /opt/conda/lib/python3.7/site-packages (from sweetviz) (1.1.5)\n",
      "Requirement already satisfied: tqdm>=4.43.0 in /opt/conda/lib/python3.7/site-packages (from sweetviz) (4.46.0)\n",
      "Requirement already satisfied: jinja2>=2.11.1 in /opt/conda/lib/python3.7/site-packages (from sweetviz) (2.11.2)\n",
      "Requirement already satisfied: numpy>=1.16.0 in /opt/conda/lib/python3.7/site-packages (from sweetviz) (1.19.5)\n",
      "Requirement already satisfied: importlib-resources>=1.2.0 in /opt/conda/lib/python3.7/site-packages (from sweetviz) (5.1.2)\n",
      "Requirement already satisfied: pyparsing!=2.0.4,!=2.1.2,!=2.1.6,>=2.0.1 in /opt/conda/lib/python3.7/site-packages (from matplotlib>=3.1.3->sweetviz) (2.4.7)\n",
      "Requirement already satisfied: python-dateutil>=2.1 in /opt/conda/lib/python3.7/site-packages (from matplotlib>=3.1.3->sweetviz) (2.8.1)\n",
      "Requirement already satisfied: cycler>=0.10 in /opt/conda/lib/python3.7/site-packages (from matplotlib>=3.1.3->sweetviz) (0.10.0)\n",
      "Requirement already satisfied: kiwisolver>=1.0.1 in /opt/conda/lib/python3.7/site-packages (from matplotlib>=3.1.3->sweetviz) (1.3.1)\n",
      "Requirement already satisfied: pytz>=2017.2 in /opt/conda/lib/python3.7/site-packages (from pandas!=1.0.0,!=1.0.1,!=1.0.2,>=0.25.3->sweetviz) (2020.1)\n",
      "Requirement already satisfied: MarkupSafe>=0.23 in /opt/conda/lib/python3.7/site-packages (from jinja2>=2.11.1->sweetviz) (1.1.1)\n",
      "Requirement already satisfied: zipp>=0.4; python_version < \"3.8\" in /opt/conda/lib/python3.7/site-packages (from importlib-resources>=1.2.0->sweetviz) (3.4.1)\n",
      "Requirement already satisfied: six>=1.5 in /opt/conda/lib/python3.7/site-packages (from python-dateutil>=2.1->matplotlib>=3.1.3->sweetviz) (1.14.0)\n"
     ]
    }
   ],
   "source": [
    "!pip install sweetviz"
   ]
  },
  {
   "cell_type": "code",
   "execution_count": 28,
   "id": "692f78bd",
   "metadata": {},
   "outputs": [
    {
     "data": {
      "application/vnd.jupyter.widget-view+json": {
       "model_id": "98051bbd34e24ce0aef846bcf3b8a18e",
       "version_major": 2,
       "version_minor": 0
      },
      "text/plain": [
       "HBox(children=(FloatProgress(value=0.0, layout=Layout(flex='2'), max=10.0), HTML(value='')), layout=Layout(dis…"
      ]
     },
     "metadata": {},
     "output_type": "display_data"
    },
    {
     "name": "stdout",
     "output_type": "stream",
     "text": [
      "\n",
      "Report ./sweetviz_Advertising.html was generated! NOTEBOOK/COLAB USERS: the web browser MAY not pop up, regardless, the report IS saved in your notebook/colab files.\n"
     ]
    }
   ],
   "source": [
    "import pandas as pd\n",
    "import sweetviz as sv\n",
    "\n",
    "advert_report = sv.analyze(train)\n",
    "advert_report.show_html('./sweetviz_Advertising.html')"
   ]
  },
  {
   "cell_type": "code",
   "execution_count": 205,
   "id": "2435c6bb",
   "metadata": {},
   "outputs": [
    {
     "name": "stdout",
     "output_type": "stream",
     "text": [
      "Enabling notebook extension jupyter-js-widgets/extension...\n",
      "      - Validating: \u001b[32mOK\u001b[0m\n"
     ]
    }
   ],
   "source": [
    "# !jupyter nbextension enable --py widgetsnbextension"
   ]
  },
  {
   "cell_type": "code",
   "execution_count": 61,
   "id": "3892a511",
   "metadata": {},
   "outputs": [],
   "source": [
    "in_patterns=[]\n",
    "out_patterns=[]\n",
    "\n",
    "for p_id in train.product_id.unique():\n",
    "    if p_id[:5].isdigit():\n",
    "        in_patterns+=[p_id]\n",
    "    else:\n",
    "        out_patterns+=[p_id]"
   ]
  },
  {
   "cell_type": "code",
   "execution_count": 66,
   "id": "0503cdfb",
   "metadata": {},
   "outputs": [
    {
     "data": {
      "text/plain": [
       "['85048', '79323P', '79323W', '22041', '21232']"
      ]
     },
     "execution_count": 66,
     "metadata": {},
     "output_type": "execute_result"
    }
   ],
   "source": [
    "in_patterns[:5] # 물품의 색깔. 물품의 마이너한 디테일. 사이즈. L/S. "
   ]
  },
  {
   "cell_type": "code",
   "execution_count": 65,
   "id": "e1d92145",
   "metadata": {},
   "outputs": [
    {
     "data": {
      "text/plain": [
       "['POST',\n",
       " 'D',\n",
       " 'M',\n",
       " 'C2',\n",
       " 'BANK CHARGES',\n",
       " 'TEST001',\n",
       " 'TEST002',\n",
       " 'PADS',\n",
       " 'ADJUST',\n",
       " 'ADJUST2',\n",
       " 'SP1002',\n",
       " 'DOT',\n",
       " 'CRUK']"
      ]
     },
     "execution_count": 65,
     "metadata": {},
     "output_type": "execute_result"
    }
   ],
   "source": [
    "out_patterns2"
   ]
  },
  {
   "cell_type": "code",
   "execution_count": 68,
   "id": "ea676898",
   "metadata": {},
   "outputs": [
    {
     "data": {
      "text/plain": [
       "4632"
      ]
     },
     "execution_count": 68,
     "metadata": {},
     "output_type": "execute_result"
    }
   ],
   "source": [
    "len(in_patterns)"
   ]
  },
  {
   "cell_type": "code",
   "execution_count": 69,
   "id": "327b5a84",
   "metadata": {},
   "outputs": [],
   "source": [
    "##############"
   ]
  },
  {
   "cell_type": "code",
   "execution_count": null,
   "id": "a0764aaf",
   "metadata": {},
   "outputs": [],
   "source": []
  },
  {
   "cell_type": "code",
   "execution_count": null,
   "id": "293feb29",
   "metadata": {},
   "outputs": [],
   "source": []
  },
  {
   "cell_type": "code",
   "execution_count": null,
   "id": "02f86cdb",
   "metadata": {},
   "outputs": [],
   "source": []
  },
  {
   "cell_type": "code",
   "execution_count": null,
   "id": "3aa36327",
   "metadata": {},
   "outputs": [],
   "source": []
  },
  {
   "cell_type": "code",
   "execution_count": null,
   "id": "e5b6f8ec",
   "metadata": {},
   "outputs": [],
   "source": []
  },
  {
   "cell_type": "code",
   "execution_count": null,
   "id": "17ad4a25",
   "metadata": {},
   "outputs": [],
   "source": []
  },
  {
   "cell_type": "code",
   "execution_count": null,
   "id": "07677f8d",
   "metadata": {},
   "outputs": [],
   "source": []
  },
  {
   "cell_type": "code",
   "execution_count": null,
   "id": "4fa8b92a",
   "metadata": {},
   "outputs": [],
   "source": []
  },
  {
   "cell_type": "code",
   "execution_count": null,
   "id": "a34c0563",
   "metadata": {},
   "outputs": [],
   "source": []
  }
 ],
 "metadata": {
  "kernelspec": {
   "display_name": "Python 3",
   "language": "python",
   "name": "python3"
  },
  "language_info": {
   "codemirror_mode": {
    "name": "ipython",
    "version": 3
   },
   "file_extension": ".py",
   "mimetype": "text/x-python",
   "name": "python",
   "nbconvert_exporter": "python",
   "pygments_lexer": "ipython3",
   "version": "3.7.7"
  }
 },
 "nbformat": 4,
 "nbformat_minor": 5
}
